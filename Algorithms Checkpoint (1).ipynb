{
 "cells": [
  {
   "cell_type": "code",
   "execution_count": 2,
   "id": "90ccbb6a",
   "metadata": {},
   "outputs": [
    {
     "name": "stdout",
     "output_type": "stream",
     "text": [
      "None\n",
      "3\n"
     ]
    }
   ],
   "source": [
    "#Q1\n",
    "\n",
    "def binary_search(sequence, item):\n",
    "    begin_index = 0\n",
    "    end_index = len(sequence)-1\n",
    "    while begin_index <= end_index:\n",
    "        midpoint = begin_index + (end_index - begin_index) // 2\n",
    "        midpoint_value = sequence[midpoint]\n",
    "        if midpoint_value == item:\n",
    "            return midpoint\n",
    "\n",
    "        elif item < midpoint_value:\n",
    "            end_index = midpoint - 1\n",
    "\n",
    "        else:\n",
    "            begin_index = midpoint + 1\n",
    "\n",
    "    return None\n",
    "\n",
    "\n",
    "sequence_a = [1, 2, 3, 5, 8]\n",
    "item_a = 6\n",
    "\n",
    "sequence_b = [1, 2, 3, 5, 8]\n",
    "item_b = 5\n",
    "\n",
    "print(binary_search(sequence_a, item_a))\n",
    "print(binary_search(sequence_b, item_b))\n"
   ]
  },
  {
   "cell_type": "code",
   "execution_count": 3,
   "id": "fd1dbc89",
   "metadata": {},
   "outputs": [
    {
     "name": "stdout",
     "output_type": "stream",
     "text": [
      "81\n"
     ]
    }
   ],
   "source": [
    "#Q2\n",
    "\n",
    "def puissance(a, b):\n",
    "    if b == 0:\n",
    "        return 1\n",
    "    elif a == 0:\n",
    "        return 0\n",
    "    elif b == 1:\n",
    "        return a\n",
    "    else:\n",
    "        return a*puissance(a, b-1)\n",
    "\n",
    "print(puissance(3, 4))\n"
   ]
  },
  {
   "cell_type": "code",
   "execution_count": 4,
   "id": "ae588296",
   "metadata": {},
   "outputs": [
    {
     "name": "stdout",
     "output_type": "stream",
     "text": [
      "[13, 22, 29, 37, 46, 49, 52, 56, 71]\n"
     ]
    }
   ],
   "source": [
    "#Q3\n",
    "\n",
    "def bubblesort(n_list):\n",
    "    for pass_num in range(len(n_list)-1, 0, -1):\n",
    "        for i in range(pass_num):\n",
    "            if n_list[i] > n_list[i+1]:\n",
    "                temp = n_list[i]\n",
    "                n_list[i] = n_list[i+1]\n",
    "                n_list[i+1] = temp\n",
    "    return n_list\n",
    "\n",
    "\n",
    "n_list = [29, 13, 22, 37, 52, 49, 46, 71, 56]\n",
    "\n",
    "print((bubblesort(n_list)))\n"
   ]
  },
  {
   "cell_type": "code",
   "execution_count": 5,
   "id": "3f4299a5",
   "metadata": {},
   "outputs": [
    {
     "name": "stdout",
     "output_type": "stream",
     "text": [
      "[13, 22, 29, 37, 46, 49, 52, 56, 71]\n"
     ]
    }
   ],
   "source": [
    "#Q4\n",
    "\n",
    "def mergesort(mylist):\n",
    "    if len(mylist) > 1:\n",
    "        mid = len(mylist) // 2\n",
    "        left = mylist[:mid]\n",
    "        right = mylist[mid:]\n",
    "\n",
    "        mergesort(left)\n",
    "        mergesort(right)\n",
    "\n",
    "        i = 0\n",
    "        j = 0\n",
    "\n",
    "        k = 0\n",
    "\n",
    "        while i < len(left) and j < len(right):\n",
    "            if left[i] < right[j]:\n",
    "\n",
    "                mylist[k] = left[i]\n",
    "\n",
    "                i += 1\n",
    "            else:\n",
    "                mylist[k] = right[j]\n",
    "                j += 1\n",
    "\n",
    "            k += 1\n",
    "\n",
    "        while i < len(left):\n",
    "            mylist[k] = left[i]\n",
    "            i += 1\n",
    "            k += 1\n",
    "\n",
    "        while j < len(right):\n",
    "            mylist[k] = right[j]\n",
    "            j += 1\n",
    "            k += 1\n",
    "\n",
    "\n",
    "mylist = [29, 13, 22, 37, 52, 49, 46, 71, 56]\n",
    "mergesort(mylist)\n",
    "print(mylist)"
   ]
  },
  {
   "cell_type": "code",
   "execution_count": null,
   "id": "632fdbb0",
   "metadata": {},
   "outputs": [],
   "source": []
  }
 ],
 "metadata": {
  "kernelspec": {
   "display_name": "Python 3 (ipykernel)",
   "language": "python",
   "name": "python3"
  },
  "language_info": {
   "codemirror_mode": {
    "name": "ipython",
    "version": 3
   },
   "file_extension": ".py",
   "mimetype": "text/x-python",
   "name": "python",
   "nbconvert_exporter": "python",
   "pygments_lexer": "ipython3",
   "version": "3.9.13"
  }
 },
 "nbformat": 4,
 "nbformat_minor": 5
}
