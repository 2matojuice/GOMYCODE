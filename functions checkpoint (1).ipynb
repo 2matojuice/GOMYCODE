{
 "cells": [
  {
   "cell_type": "code",
   "execution_count": 1,
   "id": "81d75fea",
   "metadata": {},
   "outputs": [
    {
     "name": "stdout",
     "output_type": "stream",
     "text": [
      "35\n"
     ]
    }
   ],
   "source": [
    "my_tuple = (20, 35, 19)\n",
    "maxi = my_tuple[0]\n",
    "\n",
    "for i in my_tuple:\n",
    "    if i> maxi:\n",
    "        maxi = i\n",
    "\n",
    "print(maxi)"
   ]
  },
  {
   "cell_type": "code",
   "execution_count": 2,
   "id": "2fa17401",
   "metadata": {},
   "outputs": [
    {
     "data": {
      "text/plain": [
       "(2, 8)"
      ]
     },
     "execution_count": 2,
     "metadata": {},
     "output_type": "execute_result"
    }
   ],
   "source": [
    "def calc():\n",
    "    a = 5\n",
    "    b = 3\n",
    "    return(a-b, a+b)\n",
    "calc()"
   ]
  },
  {
   "cell_type": "code",
   "execution_count": 3,
   "id": "98b024bc",
   "metadata": {},
   "outputs": [],
   "source": [
    "def funct(l1):\n",
    "    z=0\n",
    "    for x in l1:\n",
    "        z=z+x\n",
    "    return(z)"
   ]
  },
  {
   "cell_type": "code",
   "execution_count": 4,
   "id": "249c431d",
   "metadata": {},
   "outputs": [
    {
     "data": {
      "text/plain": [
       "15"
      ]
     },
     "execution_count": 4,
     "metadata": {},
     "output_type": "execute_result"
    }
   ],
   "source": [
    "funct([1, 2 ,3 ,4 ,5])"
   ]
  },
  {
   "cell_type": "code",
   "execution_count": 5,
   "id": "a2593d61",
   "metadata": {},
   "outputs": [],
   "source": [
    "def funct(l2):\n",
    "    z=1\n",
    "    for x in l2:\n",
    "        z=z*x\n",
    "    return z"
   ]
  },
  {
   "cell_type": "code",
   "execution_count": 6,
   "id": "2febad96",
   "metadata": {},
   "outputs": [
    {
     "data": {
      "text/plain": [
       "120"
      ]
     },
     "execution_count": 6,
     "metadata": {},
     "output_type": "execute_result"
    }
   ],
   "source": [
    "funct([1, 2 ,3 ,4 ,5])"
   ]
  },
  {
   "cell_type": "code",
   "execution_count": 3,
   "id": "6e1a40e4",
   "metadata": {},
   "outputs": [],
   "source": [
    "def add(l1):\n",
    "    z=0\n",
    "    for x in l1:\n",
    "        z=z+x\n",
    "    return(z)"
   ]
  },
  {
   "cell_type": "code",
   "execution_count": 4,
   "id": "a4f2dc47",
   "metadata": {},
   "outputs": [],
   "source": [
    "def mul(l2):\n",
    "    z=1\n",
    "    for x in l2:\n",
    "        z=z*x\n",
    "    return(z)"
   ]
  },
  {
   "cell_type": "code",
   "execution_count": 5,
   "id": "1e9c48fa",
   "metadata": {},
   "outputs": [
    {
     "name": "stdout",
     "output_type": "stream",
     "text": [
      "9\n",
      "8\n"
     ]
    }
   ],
   "source": [
    "l3 = [1, 2, 3, 4, 5]\n",
    "l1 = []\n",
    "l2 = []\n",
    "\n",
    "for i in range(len(l3)):\n",
    "    if i%2==0:\n",
    "        l1.append(l3[i])\n",
    "    else:\n",
    "        l2.append(l3[i])\n",
    "\n",
    "print(add(l1))\n",
    "print(mul(l2))\n",
    "#I don't know why it's not working, was working perfectly fine b4"
   ]
  },
  {
   "cell_type": "code",
   "execution_count": 10,
   "id": "9d36b950",
   "metadata": {},
   "outputs": [],
   "source": [
    "def upper(i):\n",
    "    return{element[0].upper() + element[1:] for element in i}"
   ]
  },
  {
   "cell_type": "code",
   "execution_count": 11,
   "id": "db488b6e",
   "metadata": {},
   "outputs": [],
   "source": [
    "d1 = {\"jan\", \"feb\", \"mar\", \"apr\"}"
   ]
  },
  {
   "cell_type": "code",
   "execution_count": 12,
   "id": "3d334972",
   "metadata": {},
   "outputs": [
    {
     "data": {
      "text/plain": [
       "{'Apr', 'Feb', 'Jan', 'Mar'}"
      ]
     },
     "execution_count": 12,
     "metadata": {},
     "output_type": "execute_result"
    }
   ],
   "source": [
    "upper(d1)"
   ]
  },
  {
   "cell_type": "code",
   "execution_count": 33,
   "id": "cb6fbf52",
   "metadata": {},
   "outputs": [
    {
     "name": "stdout",
     "output_type": "stream",
     "text": [
      "green-red-yellow-black-white\n"
     ]
    }
   ],
   "source": [
    "s = input()"
   ]
  },
  {
   "cell_type": "code",
   "execution_count": 34,
   "id": "0d742616",
   "metadata": {
    "scrolled": true
   },
   "outputs": [
    {
     "data": {
      "text/plain": [
       "'black-green-red-white-yellow'"
      ]
     },
     "execution_count": 34,
     "metadata": {},
     "output_type": "execute_result"
    }
   ],
   "source": [
    "s = s.split(\"-\")\n",
    "s.sort()\n",
    "\"-\".join(s)"
   ]
  }
 ],
 "metadata": {
  "kernelspec": {
   "display_name": "Python 3 (ipykernel)",
   "language": "python",
   "name": "python3"
  },
  "language_info": {
   "codemirror_mode": {
    "name": "ipython",
    "version": 3
   },
   "file_extension": ".py",
   "mimetype": "text/x-python",
   "name": "python",
   "nbconvert_exporter": "python",
   "pygments_lexer": "ipython3",
   "version": "3.9.13"
  }
 },
 "nbformat": 4,
 "nbformat_minor": 5
}
