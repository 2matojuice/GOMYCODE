{
 "cells": [
  {
   "cell_type": "code",
   "execution_count": 1,
   "id": "dbaca90c",
   "metadata": {},
   "outputs": [
    {
     "name": "stdout",
     "output_type": "stream",
     "text": [
      "36\n"
     ]
    }
   ],
   "source": [
    "#1st method for elements of the list already in int\n",
    "my_list=[2,3,6]\n",
    "print(my_list[0]*my_list[1]*my_list[2])"
   ]
  },
  {
   "cell_type": "code",
   "execution_count": 2,
   "id": "4481326b",
   "metadata": {},
   "outputs": [
    {
     "name": "stdout",
     "output_type": "stream",
     "text": [
      "36\n"
     ]
    }
   ],
   "source": [
    "#2nd method for elements of the list in strings\n",
    "a=[\"2\",\"3\",\"6\"]\n",
    "a_in_int=[int(i) for i in a]\n",
    "print(a_in_int[0]*a_in_int[1]*a_in_int[2])"
   ]
  },
  {
   "cell_type": "code",
   "execution_count": 7,
   "id": "e4372625",
   "metadata": {},
   "outputs": [
    {
     "name": "stdout",
     "output_type": "stream",
     "text": [
      "[(1, 2), (2, 1), (2, 3), (2, 5), (4, 4)]\n"
     ]
    }
   ],
   "source": [
    "my_list = [(2, 5), (1, 2), (4, 4), (2, 3), (2, 1)]\n",
    "def sort(my_list):\n",
    "    my_list.sort(key = lambda a: a[1])\n",
    "    return my_list\n",
    "print(sorted(my_list))"
   ]
  },
  {
   "cell_type": "code",
   "execution_count": 3,
   "id": "c9c851fa",
   "metadata": {},
   "outputs": [
    {
     "name": "stdout",
     "output_type": "stream",
     "text": [
      "{'a': 300, 'b': 200, 'c': 300, 'd': 400}\n"
     ]
    }
   ],
   "source": [
    "d1 = {'a': 100, 'b': 200, 'c':300}\n",
    "d2 = {'a': 300, 'b': 200, 'd':400}\n",
    "d1.update(d2)\n",
    "print(d1)\n",
    "#that's how far I could go with this one"
   ]
  },
  {
   "cell_type": "code",
   "execution_count": 4,
   "id": "dfdce4fe",
   "metadata": {},
   "outputs": [],
   "source": [
    "#I did not understand the 4th question very well"
   ]
  },
  {
   "cell_type": "code",
   "execution_count": 5,
   "id": "8c82a10e",
   "metadata": {},
   "outputs": [
    {
     "name": "stdout",
     "output_type": "stream",
     "text": [
      "[('item1', '12.20'), ('item2', '15.10'), ('item3', '24.5')]\n"
     ]
    }
   ],
   "source": [
    "item_list = [('item1', '12.20'), ('item2', '15.10'), ('item3', '24.5')]\n",
    "def sort(item_list):\n",
    "    item_list.sort(key = lambda a: a[1])\n",
    "    return item_list\n",
    "print(sorted(item_list))\n",
    "#I don't know why this one is not working"
   ]
  },
  {
   "cell_type": "code",
   "execution_count": 6,
   "id": "42b78bfc",
   "metadata": {},
   "outputs": [],
   "source": [
    "#I need help to do the 6th one"
   ]
  },
  {
   "cell_type": "code",
   "execution_count": null,
   "id": "9c1e3215",
   "metadata": {},
   "outputs": [],
   "source": []
  }
 ],
 "metadata": {
  "kernelspec": {
   "display_name": "Python 3 (ipykernel)",
   "language": "python",
   "name": "python3"
  },
  "language_info": {
   "codemirror_mode": {
    "name": "ipython",
    "version": 3
   },
   "file_extension": ".py",
   "mimetype": "text/x-python",
   "name": "python",
   "nbconvert_exporter": "python",
   "pygments_lexer": "ipython3",
   "version": "3.9.13"
  }
 },
 "nbformat": 4,
 "nbformat_minor": 5
}
