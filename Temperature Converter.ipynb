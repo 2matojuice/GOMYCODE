{
 "cells": [
  {
   "cell_type": "code",
   "execution_count": null,
   "id": "6a93ff27",
   "metadata": {},
   "outputs": [],
   "source": [
    "from tkinter import *\n",
    "\n",
    "window = Tk()\n",
    "window.title(\"Temperature converter\")\n",
    "window.resizable(width=False, height=False)\n",
    "\n",
    "\n",
    "def fahrenheit_to_celsius():\n",
    "    f = E1.get()\n",
    "    c = (float(f) - 32) * 5 / 9\n",
    "    temp2[\"text\"] = f'{round(c, 2)}\\N{DEGREE CELSIUS}'\n",
    "\n",
    "\n",
    "F1 = Frame(window)\n",
    "F1.grid(row=0, column=0, padx=10)\n",
    "\n",
    "E1 = Entry(F1, width=10)\n",
    "E1.grid(row=0, column=0)\n",
    "\n",
    "f = Label(F1, text=\"\\N{DEGREE FAHRENHEIT}}\")\n",
    "f.grid(row=0, column=1)\n",
    "\n",
    "B1 = Button(window, text=\"\\N{RIGHTWARDS BLACK ARROW}\", command=fahrenheit_to_celsius)\n",
    "B1.grid(row=0, column=1, pady=10)\n",
    "\n",
    "temp2 = Label(window, text='\\N{DEGREE CELSIUS}')\n",
    "temp2.grid(row=0, column=2, padx=10)\n",
    "\n",
    "window.mainloop()\n"
   ]
  }
 ],
 "metadata": {
  "kernelspec": {
   "display_name": "Python 3 (ipykernel)",
   "language": "python",
   "name": "python3"
  },
  "language_info": {
   "codemirror_mode": {
    "name": "ipython",
    "version": 3
   },
   "file_extension": ".py",
   "mimetype": "text/x-python",
   "name": "python",
   "nbconvert_exporter": "python",
   "pygments_lexer": "ipython3",
   "version": "3.9.13"
  }
 },
 "nbformat": 4,
 "nbformat_minor": 5
}
