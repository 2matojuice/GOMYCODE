{
 "cells": [
  {
   "cell_type": "code",
   "execution_count": 4,
   "id": "c49e8beb",
   "metadata": {},
   "outputs": [
    {
     "name": "stdout",
     "output_type": "stream",
     "text": [
      "['What is Python language?                                                \\n', 'Python is a widely used high-level, general-purpose, interpreted, dynamic programming language.Its design philosophy emphasizes code readability, and its syntax allows programmers to express concepts in fewer lines of code than possible in \\n', 'languages such as C++ or Java. \\n', 'Python supports multiple programming paradigms, including object-oriented, imperative and functional programming or procedural styles. It features a dynamic type system and automatic memory management and has a large and comprehensive standard library.The best way we learn anything is by practice and exercise questions. We  have started this section for those (beginner to intermediate) who are familiar with Python.']\n",
      "['What is Python language?                                                \\n', 'Python is a widely used high-level, general-purpose, interpreted, dynamic programming language.Its design philosophy emphasizes code readability, and its syntax allows programmers to express concepts in fewer lines of code than possible in \\n', 'languages such as C++ or Java. \\n', 'Python supports multiple programming paradigms, including object-oriented, imperative and functional programming or procedural styles. It features a dynamic type system and automatic memory management and has a large and comprehensive standard library.The best way we learn anything is by practice and exercise questions. We  have started this section for those (beginner to intermediate) who are familiar with Python.']\n"
     ]
    }
   ],
   "source": [
    "#Q1\n",
    "\n",
    "#1st method\n",
    "f = open(\"python.txt\")\n",
    "g = f.readlines()\n",
    "print(g)\n",
    "\n",
    "#2nd method\n",
    "f = open(\"C:\\\\Users\\\\sarah\\\\Downloads\\\\python.txt\")\n",
    "g = f.readlines()\n",
    "print(g)\n"
   ]
  },
  {
   "cell_type": "code",
   "execution_count": 12,
   "id": "8d3d5cbb",
   "metadata": {},
   "outputs": [
    {
     "name": "stdout",
     "output_type": "stream",
     "text": [
      "Enter N value: 3\n",
      "What is Python language?                                                \n",
      " Python is a widely used high-level, general-purpose, interpreted, dynamic programming language.Its design philosophy emphasizes code readability, and its syntax allows programmers to express concepts in fewer lines of code than possible in \n",
      " languages such as C++ or Java. \n",
      " "
     ]
    }
   ],
   "source": [
    "#Q2\n",
    "\n",
    "N = int(input(\"Enter N value: \"))\n",
    "\n",
    "for text in (g[:N]):\n",
    "    \n",
    "    print(text, end = \" \")\n"
   ]
  },
  {
   "cell_type": "code",
   "execution_count": 13,
   "id": "05c0c6e8",
   "metadata": {},
   "outputs": [
    {
     "name": "stdout",
     "output_type": "stream",
     "text": [
      "Enter N value: 2\n",
      "languages such as C++ or Java. \n",
      " Python supports multiple programming paradigms, including object-oriented, imperative and functional programming or procedural styles. It features a dynamic type system and automatic memory management and has a large and comprehensive standard library.The best way we learn anything is by practice and exercise questions. We  have started this section for those (beginner to intermediate) who are familiar with Python. "
     ]
    }
   ],
   "source": [
    "#Q3\n",
    "\n",
    "N = int(input(\"Enter N value: \"))\n",
    "\n",
    "for text in (g[N:]):\n",
    "    \n",
    "    print(text, end = \" \")\n",
    "    "
   ]
  },
  {
   "cell_type": "code",
   "execution_count": 4,
   "id": "959ada69",
   "metadata": {},
   "outputs": [
    {
     "data": {
      "text/plain": [
       "148"
      ]
     },
     "execution_count": 4,
     "metadata": {},
     "output_type": "execute_result"
    }
   ],
   "source": [
    "#Q4\n",
    "\n",
    "def words_number(x):\n",
    "    with open(x) as f:\n",
    "        g = f.read()\n",
    "        g.replace(\",\", \" \")\n",
    "    return len(g.split(\" \"))\n",
    "words_number(\"C:\\\\Users\\\\sarah\\\\Downloads\\\\python.txt\")\n"
   ]
  }
 ],
 "metadata": {
  "kernelspec": {
   "display_name": "Python 3 (ipykernel)",
   "language": "python",
   "name": "python3"
  },
  "language_info": {
   "codemirror_mode": {
    "name": "ipython",
    "version": 3
   },
   "file_extension": ".py",
   "mimetype": "text/x-python",
   "name": "python",
   "nbconvert_exporter": "python",
   "pygments_lexer": "ipython3",
   "version": "3.9.13"
  }
 },
 "nbformat": 4,
 "nbformat_minor": 5
}
