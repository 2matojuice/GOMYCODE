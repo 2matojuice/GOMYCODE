{
 "cells": [
  {
   "cell_type": "code",
   "execution_count": 1,
   "id": "081519c9",
   "metadata": {},
   "outputs": [
    {
     "name": "stdout",
     "output_type": "stream",
     "text": [
      "(1, 2, 3)\n"
     ]
    }
   ],
   "source": [
    "class Point3D:\n",
    "\n",
    "    def __init__(self, x, y, z):\n",
    "        self.x = int(x)\n",
    "        self.y = int(y)\n",
    "        self.z = int(z)\n",
    "\n",
    "    def funct(self):\n",
    "        return self.x, self.y, self.z\n",
    "\n",
    "\n",
    "my_point = Point3D(1, 2, 3)\n",
    "print(my_point.funct())\n"
   ]
  },
  {
   "cell_type": "code",
   "execution_count": 2,
   "id": "2b15ed5d",
   "metadata": {},
   "outputs": [
    {
     "name": "stdout",
     "output_type": "stream",
     "text": [
      "14\n",
      "12\n"
     ]
    }
   ],
   "source": [
    "class Rectangle:\n",
    "    def __init__(self, length, width):\n",
    "        self.length = int(length)\n",
    "        self.width = int(width)\n",
    "\n",
    "    def perimeter(self):\n",
    "        return 2 * self.length + 2 * self.width\n",
    "\n",
    "    def area(self):\n",
    "        return self.length * self.width\n",
    "\n",
    "\n",
    "my_rectangle = Rectangle(3, 4)\n",
    "print(my_rectangle.perimeter())\n",
    "print(my_rectangle.area())\n"
   ]
  },
  {
   "cell_type": "code",
   "execution_count": null,
   "id": "5c0ec5b8",
   "metadata": {},
   "outputs": [
    {
     "name": "stdout",
     "output_type": "stream",
     "text": [
      "12.566370614359172\n"
     ]
    }
   ],
   "source": [
    "import math\n",
    "\n",
    "\n",
    "class Circle:\n",
    "    def __init__(self, r, o):\n",
    "        self.r = int(r)\n",
    "        self.o = [0, 0]\n",
    "        self.x = 0\n",
    "        self.y = 0\n",
    "\n",
    "    def perimeter(self):\n",
    "        return self.r*2*math.pi\n",
    "\n",
    "    def area(self):\n",
    "        return self.r**2*math.pi\n",
    "\n",
    "    def inside(self):\n",
    "        self.x = int(input(\"enter x\"))\n",
    "        self.y = int(input(\"enter y\"))\n",
    "        if math.sqrt((self.x - self.o[0])**2 + (self.y-self.o[1])**2) > self.r:\n",
    "            print(\"false\")\n",
    "        else:\n",
    "            print(\"true\")\n",
    "\n",
    "\n",
    "g = Circle(2, [0, 3])\n",
    "print(g.perimeter())\n",
    "\n",
    "print(g.inside())\n",
    "\n",
    "print(g.area())\n"
   ]
  },
  {
   "cell_type": "code",
   "execution_count": null,
   "id": "d5762cc8",
   "metadata": {},
   "outputs": [],
   "source": [
    "class Bank:\n",
    "    def __init__(self, base_amount, amount_2):\n",
    "        self.base_amount = int(base_amount)\n",
    "        self.amount_2 = int(amount_2)\n",
    "\n",
    "    def deposit(self):\n",
    "        return self.base_amount + self.amount_2\n",
    "\n",
    "    def withdraw(self):\n",
    "        return self.base_amount - self.amount_2\n",
    "\n",
    "\n",
    "result_amount = Bank(3000, 200)\n",
    "print(result_amount.deposit())\n",
    "print(result_amount.withdraw())\n"
   ]
  }
 ],
 "metadata": {
  "kernelspec": {
   "display_name": "Python 3 (ipykernel)",
   "language": "python",
   "name": "python3"
  },
  "language_info": {
   "codemirror_mode": {
    "name": "ipython",
    "version": 3
   },
   "file_extension": ".py",
   "mimetype": "text/x-python",
   "name": "python",
   "nbconvert_exporter": "python",
   "pygments_lexer": "ipython3",
   "version": "3.9.13"
  }
 },
 "nbformat": 4,
 "nbformat_minor": 5
}
