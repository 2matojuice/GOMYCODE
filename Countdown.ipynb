{
 "cells": [
  {
   "cell_type": "code",
   "execution_count": 12,
   "id": "e808894c",
   "metadata": {},
   "outputs": [
    {
     "name": "stdout",
     "output_type": "stream",
     "text": [
      "lenght of the countdown in seconds: 9\n",
      "Fire in the hole\n"
     ]
    }
   ],
   "source": [
    "import time\n",
    "\n",
    "t = int(input(\"lenght of the countdown in seconds: \"))\n",
    "\n",
    "def countdown(t):\n",
    "    while t != 0:\n",
    "        mins, secs = divmod(int(t), 60)\n",
    "        timeformat = '{:02d}:{:02d}'.format(mins, secs)\n",
    "        print(timeformat, end='\\r')\n",
    "        time.sleep(1)\n",
    "        t -= 1\n",
    "        \n",
    "    print(\"Fire in the hole\")\n",
    "\n",
    "countdown(t)\n"
   ]
  },
  {
   "cell_type": "code",
   "execution_count": null,
   "id": "2565ccef",
   "metadata": {},
   "outputs": [],
   "source": []
  },
  {
   "cell_type": "code",
   "execution_count": null,
   "id": "829fe6aa",
   "metadata": {},
   "outputs": [],
   "source": []
  }
 ],
 "metadata": {
  "kernelspec": {
   "display_name": "Python 3 (ipykernel)",
   "language": "python",
   "name": "python3"
  },
  "language_info": {
   "codemirror_mode": {
    "name": "ipython",
    "version": 3
   },
   "file_extension": ".py",
   "mimetype": "text/x-python",
   "name": "python",
   "nbconvert_exporter": "python",
   "pygments_lexer": "ipython3",
   "version": "3.9.13"
  }
 },
 "nbformat": 4,
 "nbformat_minor": 5
}
